{
 "cells": [
  {
   "cell_type": "code",
   "execution_count": 3,
   "metadata": {},
   "outputs": [
    {
     "name": "stdout",
     "output_type": "stream",
     "text": [
      "emulator-5566 device\n",
      "emulator-5568 device\n",
      "emulator-5570 device\n",
      "[AdbDevice(serial=emulator-5566), AdbDevice(serial=emulator-5568), AdbDevice(serial=emulator-5570)]\n"
     ]
    }
   ],
   "source": [
    "import adbutils\n",
    "import pyautogui\n",
    "import pyscreeze\n",
    "from matplotlib import image\n",
    "import numpy as np\n",
    "\n",
    "adb = adbutils.AdbClient(host=\"127.0.0.1\", port=5037)\n",
    "for info in adb.list():\n",
    "    print(info.serial, info.state)\n",
    "    # <serial> <device|offline>\n",
    "\n",
    "# only list state=device\n",
    "print(adb.device_list())\n",
    "\n",
    "\n",
    "# d = adb.device(serial=\"emulator-5560\")\n",
    "\n",
    "# needle_image = image.imread(\"./FanRenXiuXianIcon_1920_1080/xiu_lian/xiu_lian_xin_de.png\")\n",
    "# needle_image = needle_image[:, :, ::-1] # convert from RGB to BGR\n",
    "# haystack_image = np.array(d.screenshot()).astype(np.float32)\n",
    "\n",
    "# x, y, w, h = pyautogui.locate(needle_image, haystack_image, confidence=0.8)\n"
   ]
  },
  {
   "cell_type": "code",
   "execution_count": 23,
   "metadata": {},
   "outputs": [],
   "source": [
    "coords = tuple(pyautogui.locate(needle_image, haystack_image, confidence=0.8))"
   ]
  },
  {
   "cell_type": "code",
   "execution_count": 25,
   "metadata": {},
   "outputs": [
    {
     "data": {
      "text/plain": [
       "Box(left=343, top=1106, width=116, height=119)"
      ]
     },
     "execution_count": 25,
     "metadata": {},
     "output_type": "execute_result"
    }
   ],
   "source": [
    "pyautogui.locate(needle_image, haystack_image, confidence=0.8)"
   ]
  },
  {
   "cell_type": "code",
   "execution_count": 24,
   "metadata": {},
   "outputs": [
    {
     "data": {
      "text/plain": [
       "(343, 1106, 116, 119)"
      ]
     },
     "execution_count": 24,
     "metadata": {},
     "output_type": "execute_result"
    }
   ],
   "source": [
    "coords"
   ]
  },
  {
   "cell_type": "code",
   "execution_count": 16,
   "metadata": {},
   "outputs": [
    {
     "data": {
      "text/plain": [
       "''"
      ]
     },
     "execution_count": 16,
     "metadata": {},
     "output_type": "execute_result"
    }
   ],
   "source": [
    "center_x = x + w / 2\n",
    "center_y = y + h / 2\n",
    "# 按压屏幕\n",
    "d.swipe(center_x, center_y, center_x, center_y, duration=5)"
   ]
  },
  {
   "cell_type": "code",
   "execution_count": 8,
   "metadata": {},
   "outputs": [
    {
     "data": {
      "text/plain": [
       "(dtype('uint8'), dtype('float32'))"
      ]
     },
     "execution_count": 8,
     "metadata": {},
     "output_type": "execute_result"
    }
   ],
   "source": [
    "haystack_image.dtype, needle_image.dtype"
   ]
  },
  {
   "cell_type": "code",
   "execution_count": 5,
   "metadata": {},
   "outputs": [
    {
     "data": {
      "text/plain": [
       "array([[[160, 160, 150],\n",
       "        [160, 158, 150],\n",
       "        [159, 157, 149],\n",
       "        ...,\n",
       "        [ 39,  73,  80],\n",
       "        [ 39,  74,  80],\n",
       "        [ 39,  74,  80]],\n",
       "\n",
       "       [[160, 158, 150],\n",
       "        [159, 158, 150],\n",
       "        [158, 157, 147],\n",
       "        ...,\n",
       "        [ 39,  75,  81],\n",
       "        [ 39,  75,  82],\n",
       "        [ 39,  76,  82]],\n",
       "\n",
       "       [[159, 157, 149],\n",
       "        [158, 156, 147],\n",
       "        [156, 154, 145],\n",
       "        ...,\n",
       "        [ 39,  77,  84],\n",
       "        [ 39,  78,  85],\n",
       "        [ 39,  78,  85]],\n",
       "\n",
       "       ...,\n",
       "\n",
       "       [[  3,  29,  48],\n",
       "        [  3,  29,  48],\n",
       "        [  3,  29,  48],\n",
       "        ...,\n",
       "        [  3,  45,  86],\n",
       "        [  3,  44,  86],\n",
       "        [  3,  44,  86]],\n",
       "\n",
       "       [[  3,  29,  48],\n",
       "        [  3,  29,  48],\n",
       "        [  3,  29,  48],\n",
       "        ...,\n",
       "        [  3,  44,  86],\n",
       "        [  3,  44,  86],\n",
       "        [  3,  44,  86]],\n",
       "\n",
       "       [[  3,  29,  48],\n",
       "        [  3,  29,  48],\n",
       "        [  3,  29,  48],\n",
       "        ...,\n",
       "        [  3,  44,  86],\n",
       "        [  3,  44,  86],\n",
       "        [  3,  44,  86]]], dtype=uint8)"
      ]
     },
     "execution_count": 5,
     "metadata": {},
     "output_type": "execute_result"
    }
   ],
   "source": [
    "haystack_image\n",
    "# dir(d)\n",
    "\n",
    "# d.window_size()\n",
    "\n",
    "# d.click(100, 100)"
   ]
  }
 ],
 "metadata": {
  "kernelspec": {
   "display_name": "auto_xiuxian",
   "language": "python",
   "name": "python3"
  },
  "language_info": {
   "codemirror_mode": {
    "name": "ipython",
    "version": 3
   },
   "file_extension": ".py",
   "mimetype": "text/x-python",
   "name": "python",
   "nbconvert_exporter": "python",
   "pygments_lexer": "ipython3",
   "version": "3.8.10"
  }
 },
 "nbformat": 4,
 "nbformat_minor": 2
}
